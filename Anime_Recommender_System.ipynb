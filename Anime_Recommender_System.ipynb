{
 "cells": [
  {
   "cell_type": "code",
   "execution_count": 68,
   "id": "99864068",
   "metadata": {},
   "outputs": [
    {
     "name": "stdout",
     "output_type": "stream",
     "text": [
      "Requirement already satisfied: pandas in c:\\users\\hastansh\\appdata\\roaming\\python\\python310\\site-packages (2.0.1)Note: you may need to restart the kernel to use updated packages.\n",
      "\n",
      "Requirement already satisfied: numpy>=1.21.0 in c:\\users\\hastansh\\anaconda3\\lib\\site-packages (from pandas) (1.23.5)\n",
      "Requirement already satisfied: tzdata>=2022.1 in c:\\users\\hastansh\\appdata\\roaming\\python\\python310\\site-packages (from pandas) (2023.3)\n",
      "Requirement already satisfied: python-dateutil>=2.8.2 in c:\\users\\hastansh\\appdata\\roaming\\python\\python310\\site-packages (from pandas) (2.8.2)\n",
      "Requirement already satisfied: pytz>=2020.1 in c:\\users\\hastansh\\appdata\\roaming\\python\\python310\\site-packages (from pandas) (2023.3)\n",
      "Requirement already satisfied: six>=1.5 in c:\\users\\hastansh\\anaconda3\\lib\\site-packages (from python-dateutil>=2.8.2->pandas) (1.16.0)\n",
      "Requirement already satisfied: scikit-learn in c:\\users\\hastansh\\anaconda3\\lib\\site-packages (1.2.2)\n",
      "Requirement already satisfied: joblib>=1.1.1 in c:\\users\\hastansh\\anaconda3\\lib\\site-packages (from scikit-learn) (1.1.1)\n",
      "Requirement already satisfied: threadpoolctl>=2.0.0 in c:\\users\\hastansh\\anaconda3\\lib\\site-packages (from scikit-learn) (2.2.0)\n",
      "Requirement already satisfied: scipy>=1.3.2 in c:\\users\\hastansh\\anaconda3\\lib\\site-packages (from scikit-learn) (1.10.0)\n",
      "Requirement already satisfied: numpy>=1.17.3 in c:\\users\\hastansh\\anaconda3\\lib\\site-packages (from scikit-learn) (1.23.5)\n",
      "Note: you may need to restart the kernel to use updated packages.\n"
     ]
    }
   ],
   "source": [
    "import numpy as np\n",
    "%pip install -U pandas\n",
    "%pip install -U scikit-learn\n",
    "import pandas as pd"
   ]
  },
  {
   "cell_type": "code",
   "execution_count": 69,
   "id": "069acd92",
   "metadata": {},
   "outputs": [],
   "source": [
    "anime = pd.read_csv(r\"C:\\Users\\Hastansh\\OneDrive\\Desktop\\AnimeRec\\anime.csv\")"
   ]
  },
  {
   "cell_type": "code",
   "execution_count": 70,
   "id": "40e35c88",
   "metadata": {},
   "outputs": [
    {
     "data": {
      "text/html": [
       "<div>\n",
       "<style scoped>\n",
       "    .dataframe tbody tr th:only-of-type {\n",
       "        vertical-align: middle;\n",
       "    }\n",
       "\n",
       "    .dataframe tbody tr th {\n",
       "        vertical-align: top;\n",
       "    }\n",
       "\n",
       "    .dataframe thead th {\n",
       "        text-align: right;\n",
       "    }\n",
       "</style>\n",
       "<table border=\"1\" class=\"dataframe\">\n",
       "  <thead>\n",
       "    <tr style=\"text-align: right;\">\n",
       "      <th></th>\n",
       "      <th>MAL_ID</th>\n",
       "      <th>Name</th>\n",
       "      <th>Score</th>\n",
       "      <th>Genres</th>\n",
       "      <th>English name</th>\n",
       "      <th>Japanese name</th>\n",
       "      <th>Type</th>\n",
       "      <th>Episodes</th>\n",
       "      <th>Aired</th>\n",
       "      <th>Premiered</th>\n",
       "      <th>...</th>\n",
       "      <th>Score-10</th>\n",
       "      <th>Score-9</th>\n",
       "      <th>Score-8</th>\n",
       "      <th>Score-7</th>\n",
       "      <th>Score-6</th>\n",
       "      <th>Score-5</th>\n",
       "      <th>Score-4</th>\n",
       "      <th>Score-3</th>\n",
       "      <th>Score-2</th>\n",
       "      <th>Score-1</th>\n",
       "    </tr>\n",
       "  </thead>\n",
       "  <tbody>\n",
       "    <tr>\n",
       "      <th>0</th>\n",
       "      <td>1</td>\n",
       "      <td>Cowboy Bebop</td>\n",
       "      <td>8.78</td>\n",
       "      <td>Action, Adventure, Comedy, Drama, Sci-Fi, Space</td>\n",
       "      <td>Cowboy Bebop</td>\n",
       "      <td>カウボーイビバップ</td>\n",
       "      <td>TV</td>\n",
       "      <td>26</td>\n",
       "      <td>Apr 3, 1998 to Apr 24, 1999</td>\n",
       "      <td>Spring 1998</td>\n",
       "      <td>...</td>\n",
       "      <td>229170.0</td>\n",
       "      <td>182126.0</td>\n",
       "      <td>131625.0</td>\n",
       "      <td>62330.0</td>\n",
       "      <td>20688.0</td>\n",
       "      <td>8904.0</td>\n",
       "      <td>3184.0</td>\n",
       "      <td>1357.0</td>\n",
       "      <td>741.0</td>\n",
       "      <td>1580.0</td>\n",
       "    </tr>\n",
       "  </tbody>\n",
       "</table>\n",
       "<p>1 rows × 35 columns</p>\n",
       "</div>"
      ],
      "text/plain": [
       "   MAL_ID          Name Score   \n",
       "0       1  Cowboy Bebop  8.78  \\\n",
       "\n",
       "                                            Genres  English name   \n",
       "0  Action, Adventure, Comedy, Drama, Sci-Fi, Space  Cowboy Bebop  \\\n",
       "\n",
       "  Japanese name Type Episodes                        Aired    Premiered  ...   \n",
       "0     カウボーイビバップ   TV       26  Apr 3, 1998 to Apr 24, 1999  Spring 1998  ...  \\\n",
       "\n",
       "   Score-10   Score-9   Score-8  Score-7  Score-6 Score-5 Score-4  Score-3   \n",
       "0  229170.0  182126.0  131625.0  62330.0  20688.0  8904.0  3184.0   1357.0  \\\n",
       "\n",
       "   Score-2  Score-1  \n",
       "0    741.0   1580.0  \n",
       "\n",
       "[1 rows x 35 columns]"
      ]
     },
     "execution_count": 70,
     "metadata": {},
     "output_type": "execute_result"
    }
   ],
   "source": [
    "anime.head(1)"
   ]
  },
  {
   "cell_type": "code",
   "execution_count": 71,
   "id": "8ca43db3",
   "metadata": {},
   "outputs": [
    {
     "data": {
      "text/plain": [
       "Index(['MAL_ID', 'Name', 'Score', 'Genres', 'English name', 'Japanese name',\n",
       "       'Type', 'Episodes', 'Aired', 'Premiered', 'Producers', 'Licensors',\n",
       "       'Studios', 'Source', 'Duration', 'Rating', 'Ranked', 'Popularity',\n",
       "       'Members', 'Favorites', 'Watching', 'Completed', 'On-Hold', 'Dropped',\n",
       "       'Plan to Watch', 'Score-10', 'Score-9', 'Score-8', 'Score-7', 'Score-6',\n",
       "       'Score-5', 'Score-4', 'Score-3', 'Score-2', 'Score-1'],\n",
       "      dtype='object')"
      ]
     },
     "execution_count": 71,
     "metadata": {},
     "output_type": "execute_result"
    }
   ],
   "source": [
    "anime.columns"
   ]
  },
  {
   "cell_type": "code",
   "execution_count": 72,
   "id": "823aa01f",
   "metadata": {},
   "outputs": [],
   "source": [
    "anime_with_synopsis = pd.read_csv(r\"C:\\Users\\Hastansh\\OneDrive\\Desktop\\AnimeRec\\anime_with_synopsis.csv\")"
   ]
  },
  {
   "cell_type": "code",
   "execution_count": 73,
   "id": "65917a8f",
   "metadata": {},
   "outputs": [
    {
     "data": {
      "text/html": [
       "<div>\n",
       "<style scoped>\n",
       "    .dataframe tbody tr th:only-of-type {\n",
       "        vertical-align: middle;\n",
       "    }\n",
       "\n",
       "    .dataframe tbody tr th {\n",
       "        vertical-align: top;\n",
       "    }\n",
       "\n",
       "    .dataframe thead th {\n",
       "        text-align: right;\n",
       "    }\n",
       "</style>\n",
       "<table border=\"1\" class=\"dataframe\">\n",
       "  <thead>\n",
       "    <tr style=\"text-align: right;\">\n",
       "      <th></th>\n",
       "      <th>MAL_ID</th>\n",
       "      <th>Name</th>\n",
       "      <th>Score</th>\n",
       "      <th>Genres</th>\n",
       "      <th>sypnopsis</th>\n",
       "    </tr>\n",
       "  </thead>\n",
       "  <tbody>\n",
       "    <tr>\n",
       "      <th>0</th>\n",
       "      <td>1</td>\n",
       "      <td>Cowboy Bebop</td>\n",
       "      <td>8.78</td>\n",
       "      <td>Action, Adventure, Comedy, Drama, Sci-Fi, Space</td>\n",
       "      <td>In the year 2071, humanity has colonized sever...</td>\n",
       "    </tr>\n",
       "  </tbody>\n",
       "</table>\n",
       "</div>"
      ],
      "text/plain": [
       "   MAL_ID          Name Score   \n",
       "0       1  Cowboy Bebop  8.78  \\\n",
       "\n",
       "                                            Genres   \n",
       "0  Action, Adventure, Comedy, Drama, Sci-Fi, Space  \\\n",
       "\n",
       "                                           sypnopsis  \n",
       "0  In the year 2071, humanity has colonized sever...  "
      ]
     },
     "execution_count": 73,
     "metadata": {},
     "output_type": "execute_result"
    }
   ],
   "source": [
    "anime_with_synopsis.head(1)"
   ]
  },
  {
   "cell_type": "code",
   "execution_count": 74,
   "id": "113c6265",
   "metadata": {},
   "outputs": [],
   "source": [
    "anime = pd.merge(anime, anime_with_synopsis, on=\"Name\")"
   ]
  },
  {
   "cell_type": "code",
   "execution_count": 75,
   "id": "01702a09",
   "metadata": {},
   "outputs": [
    {
     "data": {
      "text/plain": [
       "Index(['MAL_ID_x', 'Name', 'Score_x', 'Genres_x', 'English name',\n",
       "       'Japanese name', 'Type', 'Episodes', 'Aired', 'Premiered', 'Producers',\n",
       "       'Licensors', 'Studios', 'Source', 'Duration', 'Rating', 'Ranked',\n",
       "       'Popularity', 'Members', 'Favorites', 'Watching', 'Completed',\n",
       "       'On-Hold', 'Dropped', 'Plan to Watch', 'Score-10', 'Score-9', 'Score-8',\n",
       "       'Score-7', 'Score-6', 'Score-5', 'Score-4', 'Score-3', 'Score-2',\n",
       "       'Score-1', 'MAL_ID_y', 'Score_y', 'Genres_y', 'sypnopsis'],\n",
       "      dtype='object')"
      ]
     },
     "execution_count": 75,
     "metadata": {},
     "output_type": "execute_result"
    }
   ],
   "source": [
    "anime.columns"
   ]
  },
  {
   "cell_type": "code",
   "execution_count": 76,
   "id": "8bb4e54e",
   "metadata": {},
   "outputs": [],
   "source": [
    "columns_needed = [\"MAL_ID_x\",\"English name\",\"Japanese name\",\"Score_x\",\"Genres_x\",\"Popularity\",\"Producers\",\"sypnopsis\",\"Members\"]"
   ]
  },
  {
   "cell_type": "code",
   "execution_count": 77,
   "id": "41434188",
   "metadata": {},
   "outputs": [],
   "source": [
    "anime = anime[columns_needed]"
   ]
  },
  {
   "cell_type": "code",
   "execution_count": 78,
   "id": "90e80ea0",
   "metadata": {},
   "outputs": [
    {
     "data": {
      "text/html": [
       "<div>\n",
       "<style scoped>\n",
       "    .dataframe tbody tr th:only-of-type {\n",
       "        vertical-align: middle;\n",
       "    }\n",
       "\n",
       "    .dataframe tbody tr th {\n",
       "        vertical-align: top;\n",
       "    }\n",
       "\n",
       "    .dataframe thead th {\n",
       "        text-align: right;\n",
       "    }\n",
       "</style>\n",
       "<table border=\"1\" class=\"dataframe\">\n",
       "  <thead>\n",
       "    <tr style=\"text-align: right;\">\n",
       "      <th></th>\n",
       "      <th>MAL_ID_x</th>\n",
       "      <th>English name</th>\n",
       "      <th>Japanese name</th>\n",
       "      <th>Score_x</th>\n",
       "      <th>Genres_x</th>\n",
       "      <th>Popularity</th>\n",
       "      <th>Producers</th>\n",
       "      <th>sypnopsis</th>\n",
       "      <th>Members</th>\n",
       "    </tr>\n",
       "  </thead>\n",
       "  <tbody>\n",
       "    <tr>\n",
       "      <th>0</th>\n",
       "      <td>1</td>\n",
       "      <td>Cowboy Bebop</td>\n",
       "      <td>カウボーイビバップ</td>\n",
       "      <td>8.78</td>\n",
       "      <td>Action, Adventure, Comedy, Drama, Sci-Fi, Space</td>\n",
       "      <td>39</td>\n",
       "      <td>Bandai Visual</td>\n",
       "      <td>In the year 2071, humanity has colonized sever...</td>\n",
       "      <td>1251960</td>\n",
       "    </tr>\n",
       "    <tr>\n",
       "      <th>1</th>\n",
       "      <td>5</td>\n",
       "      <td>Cowboy Bebop:The Movie</td>\n",
       "      <td>カウボーイビバップ 天国の扉</td>\n",
       "      <td>8.39</td>\n",
       "      <td>Action, Drama, Mystery, Sci-Fi, Space</td>\n",
       "      <td>518</td>\n",
       "      <td>Sunrise, Bandai Visual</td>\n",
       "      <td>other day, another bounty—such is the life of ...</td>\n",
       "      <td>273145</td>\n",
       "    </tr>\n",
       "    <tr>\n",
       "      <th>2</th>\n",
       "      <td>6</td>\n",
       "      <td>Trigun</td>\n",
       "      <td>トライガン</td>\n",
       "      <td>8.24</td>\n",
       "      <td>Action, Sci-Fi, Adventure, Comedy, Drama, Shounen</td>\n",
       "      <td>201</td>\n",
       "      <td>Victor Entertainment</td>\n",
       "      <td>Vash the Stampede is the man with a $$60,000,0...</td>\n",
       "      <td>558913</td>\n",
       "    </tr>\n",
       "    <tr>\n",
       "      <th>3</th>\n",
       "      <td>7</td>\n",
       "      <td>Witch Hunter Robin</td>\n",
       "      <td>Witch Hunter ROBIN (ウイッチハンターロビン)</td>\n",
       "      <td>7.27</td>\n",
       "      <td>Action, Mystery, Police, Supernatural, Drama, ...</td>\n",
       "      <td>1467</td>\n",
       "      <td>TV Tokyo, Bandai Visual, Dentsu, Victor Entert...</td>\n",
       "      <td>ches are individuals with special powers like ...</td>\n",
       "      <td>94683</td>\n",
       "    </tr>\n",
       "    <tr>\n",
       "      <th>4</th>\n",
       "      <td>8</td>\n",
       "      <td>Beet the Vandel Buster</td>\n",
       "      <td>冒険王ビィト</td>\n",
       "      <td>6.98</td>\n",
       "      <td>Adventure, Fantasy, Shounen, Supernatural</td>\n",
       "      <td>4369</td>\n",
       "      <td>TV Tokyo, Dentsu</td>\n",
       "      <td>It is the dark century and the people are suff...</td>\n",
       "      <td>13224</td>\n",
       "    </tr>\n",
       "  </tbody>\n",
       "</table>\n",
       "</div>"
      ],
      "text/plain": [
       "   MAL_ID_x            English name                     Japanese name Score_x   \n",
       "0         1            Cowboy Bebop                         カウボーイビバップ    8.78  \\\n",
       "1         5  Cowboy Bebop:The Movie                    カウボーイビバップ 天国の扉    8.39   \n",
       "2         6                  Trigun                             トライガン    8.24   \n",
       "3         7      Witch Hunter Robin  Witch Hunter ROBIN (ウイッチハンターロビン)    7.27   \n",
       "4         8  Beet the Vandel Buster                            冒険王ビィト    6.98   \n",
       "\n",
       "                                            Genres_x  Popularity   \n",
       "0    Action, Adventure, Comedy, Drama, Sci-Fi, Space          39  \\\n",
       "1              Action, Drama, Mystery, Sci-Fi, Space         518   \n",
       "2  Action, Sci-Fi, Adventure, Comedy, Drama, Shounen         201   \n",
       "3  Action, Mystery, Police, Supernatural, Drama, ...        1467   \n",
       "4          Adventure, Fantasy, Shounen, Supernatural        4369   \n",
       "\n",
       "                                           Producers   \n",
       "0                                      Bandai Visual  \\\n",
       "1                             Sunrise, Bandai Visual   \n",
       "2                               Victor Entertainment   \n",
       "3  TV Tokyo, Bandai Visual, Dentsu, Victor Entert...   \n",
       "4                                   TV Tokyo, Dentsu   \n",
       "\n",
       "                                           sypnopsis  Members  \n",
       "0  In the year 2071, humanity has colonized sever...  1251960  \n",
       "1  other day, another bounty—such is the life of ...   273145  \n",
       "2  Vash the Stampede is the man with a $$60,000,0...   558913  \n",
       "3  ches are individuals with special powers like ...    94683  \n",
       "4  It is the dark century and the people are suff...    13224  "
      ]
     },
     "execution_count": 78,
     "metadata": {},
     "output_type": "execute_result"
    }
   ],
   "source": [
    "anime.head(5)"
   ]
  },
  {
   "cell_type": "code",
   "execution_count": 79,
   "id": "7a244704",
   "metadata": {},
   "outputs": [
    {
     "data": {
      "text/plain": [
       "MAL_ID_x         0\n",
       "English name     0\n",
       "Japanese name    0\n",
       "Score_x          0\n",
       "Genres_x         0\n",
       "Popularity       0\n",
       "Producers        0\n",
       "sypnopsis        8\n",
       "Members          0\n",
       "dtype: int64"
      ]
     },
     "execution_count": 79,
     "metadata": {},
     "output_type": "execute_result"
    }
   ],
   "source": [
    "anime.isnull().sum()"
   ]
  },
  {
   "cell_type": "code",
   "execution_count": 80,
   "id": "80f17e8d",
   "metadata": {},
   "outputs": [],
   "source": [
    "anime.dropna(inplace=True)"
   ]
  },
  {
   "cell_type": "code",
   "execution_count": 81,
   "id": "f20014b7",
   "metadata": {},
   "outputs": [
    {
     "data": {
      "text/plain": [
       "MAL_ID_x         0\n",
       "English name     0\n",
       "Japanese name    0\n",
       "Score_x          0\n",
       "Genres_x         0\n",
       "Popularity       0\n",
       "Producers        0\n",
       "sypnopsis        0\n",
       "Members          0\n",
       "dtype: int64"
      ]
     },
     "execution_count": 81,
     "metadata": {},
     "output_type": "execute_result"
    }
   ],
   "source": [
    "anime.isnull().sum()"
   ]
  },
  {
   "cell_type": "code",
   "execution_count": 82,
   "id": "80fd39d6",
   "metadata": {},
   "outputs": [
    {
     "data": {
      "text/plain": [
       "0"
      ]
     },
     "execution_count": 82,
     "metadata": {},
     "output_type": "execute_result"
    }
   ],
   "source": [
    "anime.duplicated().sum()"
   ]
  },
  {
   "cell_type": "code",
   "execution_count": 83,
   "id": "e5e5a70f",
   "metadata": {},
   "outputs": [
    {
     "data": {
      "text/plain": [
       "0          Action, Adventure, Comedy, Drama, Sci-Fi, Space\n",
       "1                    Action, Drama, Mystery, Sci-Fi, Space\n",
       "2        Action, Sci-Fi, Adventure, Comedy, Drama, Shounen\n",
       "3        Action, Mystery, Police, Supernatural, Drama, ...\n",
       "4                Adventure, Fantasy, Shounen, Supernatural\n",
       "                               ...                        \n",
       "16219                     Adventure, Mystery, Supernatural\n",
       "16220                         Comedy, Horror, Supernatural\n",
       "16221    Mystery, Dementia, Horror, Psychological, Supe...\n",
       "16222                     Adventure, Slice of Life, Comedy\n",
       "16223                                      Action, Fantasy\n",
       "Name: Genres_x, Length: 16216, dtype: object"
      ]
     },
     "execution_count": 83,
     "metadata": {},
     "output_type": "execute_result"
    }
   ],
   "source": [
    "anime['Genres_x']"
   ]
  },
  {
   "cell_type": "code",
   "execution_count": 84,
   "id": "f1d82e9f",
   "metadata": {},
   "outputs": [
    {
     "data": {
      "text/html": [
       "<div>\n",
       "<style scoped>\n",
       "    .dataframe tbody tr th:only-of-type {\n",
       "        vertical-align: middle;\n",
       "    }\n",
       "\n",
       "    .dataframe tbody tr th {\n",
       "        vertical-align: top;\n",
       "    }\n",
       "\n",
       "    .dataframe thead th {\n",
       "        text-align: right;\n",
       "    }\n",
       "</style>\n",
       "<table border=\"1\" class=\"dataframe\">\n",
       "  <thead>\n",
       "    <tr style=\"text-align: right;\">\n",
       "      <th></th>\n",
       "      <th>MAL_ID_x</th>\n",
       "      <th>English name</th>\n",
       "      <th>Japanese name</th>\n",
       "      <th>Score_x</th>\n",
       "      <th>Genres_x</th>\n",
       "      <th>Popularity</th>\n",
       "      <th>Producers</th>\n",
       "      <th>sypnopsis</th>\n",
       "      <th>Members</th>\n",
       "    </tr>\n",
       "  </thead>\n",
       "  <tbody>\n",
       "    <tr>\n",
       "      <th>0</th>\n",
       "      <td>1</td>\n",
       "      <td>Cowboy Bebop</td>\n",
       "      <td>カウボーイビバップ</td>\n",
       "      <td>8.78</td>\n",
       "      <td>Action, Adventure, Comedy, Drama, Sci-Fi, Space</td>\n",
       "      <td>39</td>\n",
       "      <td>Bandai Visual</td>\n",
       "      <td>In the year 2071, humanity has colonized sever...</td>\n",
       "      <td>1251960</td>\n",
       "    </tr>\n",
       "    <tr>\n",
       "      <th>1</th>\n",
       "      <td>5</td>\n",
       "      <td>Cowboy Bebop:The Movie</td>\n",
       "      <td>カウボーイビバップ 天国の扉</td>\n",
       "      <td>8.39</td>\n",
       "      <td>Action, Drama, Mystery, Sci-Fi, Space</td>\n",
       "      <td>518</td>\n",
       "      <td>Sunrise, Bandai Visual</td>\n",
       "      <td>other day, another bounty—such is the life of ...</td>\n",
       "      <td>273145</td>\n",
       "    </tr>\n",
       "    <tr>\n",
       "      <th>2</th>\n",
       "      <td>6</td>\n",
       "      <td>Trigun</td>\n",
       "      <td>トライガン</td>\n",
       "      <td>8.24</td>\n",
       "      <td>Action, Sci-Fi, Adventure, Comedy, Drama, Shounen</td>\n",
       "      <td>201</td>\n",
       "      <td>Victor Entertainment</td>\n",
       "      <td>Vash the Stampede is the man with a $$60,000,0...</td>\n",
       "      <td>558913</td>\n",
       "    </tr>\n",
       "    <tr>\n",
       "      <th>3</th>\n",
       "      <td>7</td>\n",
       "      <td>Witch Hunter Robin</td>\n",
       "      <td>Witch Hunter ROBIN (ウイッチハンターロビン)</td>\n",
       "      <td>7.27</td>\n",
       "      <td>Action, Mystery, Police, Supernatural, Drama, ...</td>\n",
       "      <td>1467</td>\n",
       "      <td>TV Tokyo, Bandai Visual, Dentsu, Victor Entert...</td>\n",
       "      <td>ches are individuals with special powers like ...</td>\n",
       "      <td>94683</td>\n",
       "    </tr>\n",
       "    <tr>\n",
       "      <th>4</th>\n",
       "      <td>8</td>\n",
       "      <td>Beet the Vandel Buster</td>\n",
       "      <td>冒険王ビィト</td>\n",
       "      <td>6.98</td>\n",
       "      <td>Adventure, Fantasy, Shounen, Supernatural</td>\n",
       "      <td>4369</td>\n",
       "      <td>TV Tokyo, Dentsu</td>\n",
       "      <td>It is the dark century and the people are suff...</td>\n",
       "      <td>13224</td>\n",
       "    </tr>\n",
       "  </tbody>\n",
       "</table>\n",
       "</div>"
      ],
      "text/plain": [
       "   MAL_ID_x            English name                     Japanese name Score_x   \n",
       "0         1            Cowboy Bebop                         カウボーイビバップ    8.78  \\\n",
       "1         5  Cowboy Bebop:The Movie                    カウボーイビバップ 天国の扉    8.39   \n",
       "2         6                  Trigun                             トライガン    8.24   \n",
       "3         7      Witch Hunter Robin  Witch Hunter ROBIN (ウイッチハンターロビン)    7.27   \n",
       "4         8  Beet the Vandel Buster                            冒険王ビィト    6.98   \n",
       "\n",
       "                                            Genres_x  Popularity   \n",
       "0    Action, Adventure, Comedy, Drama, Sci-Fi, Space          39  \\\n",
       "1              Action, Drama, Mystery, Sci-Fi, Space         518   \n",
       "2  Action, Sci-Fi, Adventure, Comedy, Drama, Shounen         201   \n",
       "3  Action, Mystery, Police, Supernatural, Drama, ...        1467   \n",
       "4          Adventure, Fantasy, Shounen, Supernatural        4369   \n",
       "\n",
       "                                           Producers   \n",
       "0                                      Bandai Visual  \\\n",
       "1                             Sunrise, Bandai Visual   \n",
       "2                               Victor Entertainment   \n",
       "3  TV Tokyo, Bandai Visual, Dentsu, Victor Entert...   \n",
       "4                                   TV Tokyo, Dentsu   \n",
       "\n",
       "                                           sypnopsis  Members  \n",
       "0  In the year 2071, humanity has colonized sever...  1251960  \n",
       "1  other day, another bounty—such is the life of ...   273145  \n",
       "2  Vash the Stampede is the man with a $$60,000,0...   558913  \n",
       "3  ches are individuals with special powers like ...    94683  \n",
       "4  It is the dark century and the people are suff...    13224  "
      ]
     },
     "execution_count": 84,
     "metadata": {},
     "output_type": "execute_result"
    }
   ],
   "source": [
    "anime.head()"
   ]
  },
  {
   "cell_type": "code",
   "execution_count": 85,
   "id": "6a0ef91d",
   "metadata": {},
   "outputs": [],
   "source": [
    "anime[\"Producers\"] = anime[\"Producers\"].str.split(',').str[:3]\n",
    "anime[\"Producers\"] = anime[\"Producers\"].str.join(',')"
   ]
  },
  {
   "cell_type": "code",
   "execution_count": 86,
   "id": "5cee6970",
   "metadata": {
    "scrolled": true
   },
   "outputs": [
    {
     "data": {
      "text/html": [
       "<div>\n",
       "<style scoped>\n",
       "    .dataframe tbody tr th:only-of-type {\n",
       "        vertical-align: middle;\n",
       "    }\n",
       "\n",
       "    .dataframe tbody tr th {\n",
       "        vertical-align: top;\n",
       "    }\n",
       "\n",
       "    .dataframe thead th {\n",
       "        text-align: right;\n",
       "    }\n",
       "</style>\n",
       "<table border=\"1\" class=\"dataframe\">\n",
       "  <thead>\n",
       "    <tr style=\"text-align: right;\">\n",
       "      <th></th>\n",
       "      <th>MAL_ID_x</th>\n",
       "      <th>English name</th>\n",
       "      <th>Japanese name</th>\n",
       "      <th>Score_x</th>\n",
       "      <th>Genres_x</th>\n",
       "      <th>Popularity</th>\n",
       "      <th>Producers</th>\n",
       "      <th>sypnopsis</th>\n",
       "      <th>Members</th>\n",
       "    </tr>\n",
       "  </thead>\n",
       "  <tbody>\n",
       "    <tr>\n",
       "      <th>0</th>\n",
       "      <td>1</td>\n",
       "      <td>Cowboy Bebop</td>\n",
       "      <td>カウボーイビバップ</td>\n",
       "      <td>8.78</td>\n",
       "      <td>Action, Adventure, Comedy, Drama, Sci-Fi, Space</td>\n",
       "      <td>39</td>\n",
       "      <td>Bandai Visual</td>\n",
       "      <td>In the year 2071, humanity has colonized sever...</td>\n",
       "      <td>1251960</td>\n",
       "    </tr>\n",
       "    <tr>\n",
       "      <th>1</th>\n",
       "      <td>5</td>\n",
       "      <td>Cowboy Bebop:The Movie</td>\n",
       "      <td>カウボーイビバップ 天国の扉</td>\n",
       "      <td>8.39</td>\n",
       "      <td>Action, Drama, Mystery, Sci-Fi, Space</td>\n",
       "      <td>518</td>\n",
       "      <td>Sunrise, Bandai Visual</td>\n",
       "      <td>other day, another bounty—such is the life of ...</td>\n",
       "      <td>273145</td>\n",
       "    </tr>\n",
       "    <tr>\n",
       "      <th>2</th>\n",
       "      <td>6</td>\n",
       "      <td>Trigun</td>\n",
       "      <td>トライガン</td>\n",
       "      <td>8.24</td>\n",
       "      <td>Action, Sci-Fi, Adventure, Comedy, Drama, Shounen</td>\n",
       "      <td>201</td>\n",
       "      <td>Victor Entertainment</td>\n",
       "      <td>Vash the Stampede is the man with a $$60,000,0...</td>\n",
       "      <td>558913</td>\n",
       "    </tr>\n",
       "    <tr>\n",
       "      <th>3</th>\n",
       "      <td>7</td>\n",
       "      <td>Witch Hunter Robin</td>\n",
       "      <td>Witch Hunter ROBIN (ウイッチハンターロビン)</td>\n",
       "      <td>7.27</td>\n",
       "      <td>Action, Mystery, Police, Supernatural, Drama, ...</td>\n",
       "      <td>1467</td>\n",
       "      <td>TV Tokyo, Bandai Visual, Dentsu</td>\n",
       "      <td>ches are individuals with special powers like ...</td>\n",
       "      <td>94683</td>\n",
       "    </tr>\n",
       "    <tr>\n",
       "      <th>4</th>\n",
       "      <td>8</td>\n",
       "      <td>Beet the Vandel Buster</td>\n",
       "      <td>冒険王ビィト</td>\n",
       "      <td>6.98</td>\n",
       "      <td>Adventure, Fantasy, Shounen, Supernatural</td>\n",
       "      <td>4369</td>\n",
       "      <td>TV Tokyo, Dentsu</td>\n",
       "      <td>It is the dark century and the people are suff...</td>\n",
       "      <td>13224</td>\n",
       "    </tr>\n",
       "  </tbody>\n",
       "</table>\n",
       "</div>"
      ],
      "text/plain": [
       "   MAL_ID_x            English name                     Japanese name Score_x   \n",
       "0         1            Cowboy Bebop                         カウボーイビバップ    8.78  \\\n",
       "1         5  Cowboy Bebop:The Movie                    カウボーイビバップ 天国の扉    8.39   \n",
       "2         6                  Trigun                             トライガン    8.24   \n",
       "3         7      Witch Hunter Robin  Witch Hunter ROBIN (ウイッチハンターロビン)    7.27   \n",
       "4         8  Beet the Vandel Buster                            冒険王ビィト    6.98   \n",
       "\n",
       "                                            Genres_x  Popularity   \n",
       "0    Action, Adventure, Comedy, Drama, Sci-Fi, Space          39  \\\n",
       "1              Action, Drama, Mystery, Sci-Fi, Space         518   \n",
       "2  Action, Sci-Fi, Adventure, Comedy, Drama, Shounen         201   \n",
       "3  Action, Mystery, Police, Supernatural, Drama, ...        1467   \n",
       "4          Adventure, Fantasy, Shounen, Supernatural        4369   \n",
       "\n",
       "                         Producers   \n",
       "0                    Bandai Visual  \\\n",
       "1           Sunrise, Bandai Visual   \n",
       "2             Victor Entertainment   \n",
       "3  TV Tokyo, Bandai Visual, Dentsu   \n",
       "4                 TV Tokyo, Dentsu   \n",
       "\n",
       "                                           sypnopsis  Members  \n",
       "0  In the year 2071, humanity has colonized sever...  1251960  \n",
       "1  other day, another bounty—such is the life of ...   273145  \n",
       "2  Vash the Stampede is the man with a $$60,000,0...   558913  \n",
       "3  ches are individuals with special powers like ...    94683  \n",
       "4  It is the dark century and the people are suff...    13224  "
      ]
     },
     "execution_count": 86,
     "metadata": {},
     "output_type": "execute_result"
    }
   ],
   "source": [
    "anime.head()"
   ]
  },
  {
   "cell_type": "code",
   "execution_count": 87,
   "id": "9a8120d3",
   "metadata": {},
   "outputs": [],
   "source": [
    "anime = anime.rename(columns={'MAL_ID_x': 'ID', 'Score_x': 'Score','Genres_x': 'Genres','sypnopsis':'Synopsis'})"
   ]
  },
  {
   "cell_type": "code",
   "execution_count": 88,
   "id": "ef81f921",
   "metadata": {},
   "outputs": [
    {
     "data": {
      "text/html": [
       "<div>\n",
       "<style scoped>\n",
       "    .dataframe tbody tr th:only-of-type {\n",
       "        vertical-align: middle;\n",
       "    }\n",
       "\n",
       "    .dataframe tbody tr th {\n",
       "        vertical-align: top;\n",
       "    }\n",
       "\n",
       "    .dataframe thead th {\n",
       "        text-align: right;\n",
       "    }\n",
       "</style>\n",
       "<table border=\"1\" class=\"dataframe\">\n",
       "  <thead>\n",
       "    <tr style=\"text-align: right;\">\n",
       "      <th></th>\n",
       "      <th>ID</th>\n",
       "      <th>English name</th>\n",
       "      <th>Japanese name</th>\n",
       "      <th>Score</th>\n",
       "      <th>Genres</th>\n",
       "      <th>Popularity</th>\n",
       "      <th>Producers</th>\n",
       "      <th>Synopsis</th>\n",
       "      <th>Members</th>\n",
       "    </tr>\n",
       "  </thead>\n",
       "  <tbody>\n",
       "    <tr>\n",
       "      <th>0</th>\n",
       "      <td>1</td>\n",
       "      <td>Cowboy Bebop</td>\n",
       "      <td>カウボーイビバップ</td>\n",
       "      <td>8.78</td>\n",
       "      <td>Action, Adventure, Comedy, Drama, Sci-Fi, Space</td>\n",
       "      <td>39</td>\n",
       "      <td>Bandai Visual</td>\n",
       "      <td>In the year 2071, humanity has colonized sever...</td>\n",
       "      <td>1251960</td>\n",
       "    </tr>\n",
       "    <tr>\n",
       "      <th>1</th>\n",
       "      <td>5</td>\n",
       "      <td>Cowboy Bebop:The Movie</td>\n",
       "      <td>カウボーイビバップ 天国の扉</td>\n",
       "      <td>8.39</td>\n",
       "      <td>Action, Drama, Mystery, Sci-Fi, Space</td>\n",
       "      <td>518</td>\n",
       "      <td>Sunrise, Bandai Visual</td>\n",
       "      <td>other day, another bounty—such is the life of ...</td>\n",
       "      <td>273145</td>\n",
       "    </tr>\n",
       "    <tr>\n",
       "      <th>2</th>\n",
       "      <td>6</td>\n",
       "      <td>Trigun</td>\n",
       "      <td>トライガン</td>\n",
       "      <td>8.24</td>\n",
       "      <td>Action, Sci-Fi, Adventure, Comedy, Drama, Shounen</td>\n",
       "      <td>201</td>\n",
       "      <td>Victor Entertainment</td>\n",
       "      <td>Vash the Stampede is the man with a $$60,000,0...</td>\n",
       "      <td>558913</td>\n",
       "    </tr>\n",
       "    <tr>\n",
       "      <th>3</th>\n",
       "      <td>7</td>\n",
       "      <td>Witch Hunter Robin</td>\n",
       "      <td>Witch Hunter ROBIN (ウイッチハンターロビン)</td>\n",
       "      <td>7.27</td>\n",
       "      <td>Action, Mystery, Police, Supernatural, Drama, ...</td>\n",
       "      <td>1467</td>\n",
       "      <td>TV Tokyo, Bandai Visual, Dentsu</td>\n",
       "      <td>ches are individuals with special powers like ...</td>\n",
       "      <td>94683</td>\n",
       "    </tr>\n",
       "    <tr>\n",
       "      <th>4</th>\n",
       "      <td>8</td>\n",
       "      <td>Beet the Vandel Buster</td>\n",
       "      <td>冒険王ビィト</td>\n",
       "      <td>6.98</td>\n",
       "      <td>Adventure, Fantasy, Shounen, Supernatural</td>\n",
       "      <td>4369</td>\n",
       "      <td>TV Tokyo, Dentsu</td>\n",
       "      <td>It is the dark century and the people are suff...</td>\n",
       "      <td>13224</td>\n",
       "    </tr>\n",
       "  </tbody>\n",
       "</table>\n",
       "</div>"
      ],
      "text/plain": [
       "   ID            English name                     Japanese name Score   \n",
       "0   1            Cowboy Bebop                         カウボーイビバップ  8.78  \\\n",
       "1   5  Cowboy Bebop:The Movie                    カウボーイビバップ 天国の扉  8.39   \n",
       "2   6                  Trigun                             トライガン  8.24   \n",
       "3   7      Witch Hunter Robin  Witch Hunter ROBIN (ウイッチハンターロビン)  7.27   \n",
       "4   8  Beet the Vandel Buster                            冒険王ビィト  6.98   \n",
       "\n",
       "                                              Genres  Popularity   \n",
       "0    Action, Adventure, Comedy, Drama, Sci-Fi, Space          39  \\\n",
       "1              Action, Drama, Mystery, Sci-Fi, Space         518   \n",
       "2  Action, Sci-Fi, Adventure, Comedy, Drama, Shounen         201   \n",
       "3  Action, Mystery, Police, Supernatural, Drama, ...        1467   \n",
       "4          Adventure, Fantasy, Shounen, Supernatural        4369   \n",
       "\n",
       "                         Producers   \n",
       "0                    Bandai Visual  \\\n",
       "1           Sunrise, Bandai Visual   \n",
       "2             Victor Entertainment   \n",
       "3  TV Tokyo, Bandai Visual, Dentsu   \n",
       "4                 TV Tokyo, Dentsu   \n",
       "\n",
       "                                            Synopsis  Members  \n",
       "0  In the year 2071, humanity has colonized sever...  1251960  \n",
       "1  other day, another bounty—such is the life of ...   273145  \n",
       "2  Vash the Stampede is the man with a $$60,000,0...   558913  \n",
       "3  ches are individuals with special powers like ...    94683  \n",
       "4  It is the dark century and the people are suff...    13224  "
      ]
     },
     "execution_count": 88,
     "metadata": {},
     "output_type": "execute_result"
    }
   ],
   "source": [
    "anime.head()\n",
    "# anime['genres'].apply(lambda x:[i.replace(\" \",\"\") for i in x])"
   ]
  },
  {
   "cell_type": "code",
   "execution_count": 89,
   "id": "086b8b59",
   "metadata": {},
   "outputs": [
    {
     "data": {
      "text/plain": [
       "(16216, 9)"
      ]
     },
     "execution_count": 89,
     "metadata": {},
     "output_type": "execute_result"
    }
   ],
   "source": [
    "anime.shape"
   ]
  },
  {
   "cell_type": "code",
   "execution_count": 90,
   "id": "67ddb652",
   "metadata": {},
   "outputs": [
    {
     "data": {
      "text/plain": [
       "0"
      ]
     },
     "execution_count": 90,
     "metadata": {},
     "output_type": "execute_result"
    }
   ],
   "source": [
    "anime.duplicated().sum()"
   ]
  },
  {
   "cell_type": "code",
   "execution_count": 91,
   "id": "01026040",
   "metadata": {},
   "outputs": [
    {
     "data": {
      "text/plain": [
       "Index(['ID', 'English name', 'Japanese name', 'Score', 'Genres', 'Popularity',\n",
       "       'Producers', 'Synopsis', 'Members'],\n",
       "      dtype='object')"
      ]
     },
     "execution_count": 91,
     "metadata": {},
     "output_type": "execute_result"
    }
   ],
   "source": [
    "final_columns = anime.columns\n",
    "final_columns"
   ]
  },
  {
   "cell_type": "code",
   "execution_count": 92,
   "id": "fa9e7733",
   "metadata": {},
   "outputs": [],
   "source": [
    "anime[\"Genres\"] = anime[\"Genres\"].str.replace(' ','')\n",
    "anime[\"Producers\"] = anime[\"Producers\"].str.replace(' ','')"
   ]
  },
  {
   "cell_type": "code",
   "execution_count": 93,
   "id": "62a94781",
   "metadata": {},
   "outputs": [],
   "source": [
    "# anime[\"Score\"] = anime[\"Score\"].astype(str)\n",
    "anime[\"Popularity\"] = anime[\"Popularity\"].astype(str)\n",
    "anime[\"Members\"] = anime[\"Members\"].astype(str)"
   ]
  },
  {
   "cell_type": "code",
   "execution_count": 94,
   "id": "59807eb3",
   "metadata": {},
   "outputs": [
    {
     "name": "stdout",
     "output_type": "stream",
     "text": [
      "9621\n",
      "5122\n",
      "63\n",
      "0\n",
      "7456\n",
      "0\n",
      "0\n"
     ]
    }
   ],
   "source": [
    "# def is_unknown(value):\n",
    "#     return value == 'Unknown'\n",
    "\n",
    "# result = anime.applymap(is_unknown)\n",
    "# print(result)\n",
    "print(anime[\"English name\"].eq(\"Unknown\").sum())\n",
    "print(anime[\"Score\"].eq(\"Unknown\").sum())\n",
    "print(anime[\"Genres\"].eq(\"Unknown\").sum())\n",
    "print(anime[\"Popularity\"].eq(\"Unknown\").sum())\n",
    "print(anime[\"Producers\"].eq(\"Unknown\").sum())\n",
    "print(anime[\"Synopsis\"].eq(\"Unknown\").sum())\n",
    "print(anime[\"Members\"].eq(\"Unknown\").sum())"
   ]
  },
  {
   "cell_type": "code",
   "execution_count": 95,
   "id": "172b83dc",
   "metadata": {},
   "outputs": [],
   "source": [
    "# anime.loc[anime['English name'] == 'Unknown', 'English name'] = anime.loc[anime['English name'] == 'Unknown', 'Japanese name']\n",
    "anime = anime.drop(anime[anime['English name'] == 'Unknown'].index)"
   ]
  },
  {
   "cell_type": "code",
   "execution_count": 96,
   "id": "5289fea6",
   "metadata": {},
   "outputs": [
    {
     "name": "stdout",
     "output_type": "stream",
     "text": [
      "0\n",
      "1142\n",
      "11\n",
      "0\n",
      "2487\n",
      "0\n",
      "0\n"
     ]
    }
   ],
   "source": [
    "print(anime[\"English name\"].eq(\"Unknown\").sum())\n",
    "print(anime[\"Score\"].eq(\"Unknown\").sum())\n",
    "print(anime[\"Genres\"].eq(\"Unknown\").sum())\n",
    "print(anime[\"Popularity\"].eq(\"Unknown\").sum())\n",
    "print(anime[\"Producers\"].eq(\"Unknown\").sum())\n",
    "print(anime[\"Synopsis\"].eq(\"Unknown\").sum())\n",
    "print(anime[\"Members\"].eq(\"Unknown\").sum())"
   ]
  },
  {
   "cell_type": "code",
   "execution_count": 97,
   "id": "395428e4",
   "metadata": {},
   "outputs": [
    {
     "data": {
      "text/plain": [
       "(3718, 9)"
      ]
     },
     "execution_count": 97,
     "metadata": {},
     "output_type": "execute_result"
    }
   ],
   "source": [
    "anime = anime[(anime != \"Unknown\").all(axis=1)]\n",
    "anime.shape"
   ]
  },
  {
   "cell_type": "code",
   "execution_count": 98,
   "id": "595848d9",
   "metadata": {},
   "outputs": [],
   "source": [
    "anime[\"tags\"] = anime[\"Popularity\"]+\" \"+anime[\"Members\"]+\" \"+anime[\"Genres\"]+\" \"+anime[\"Synopsis\"]+\" \"+anime[\"Producers\"]"
   ]
  },
  {
   "cell_type": "code",
   "execution_count": 99,
   "id": "637c4fa4",
   "metadata": {},
   "outputs": [],
   "source": [
    "anime = anime.rename(columns={'English name': 'Title','tags':'Tags'})"
   ]
  },
  {
   "cell_type": "code",
   "execution_count": 100,
   "id": "93eb6933",
   "metadata": {},
   "outputs": [
    {
     "data": {
      "text/html": [
       "<div>\n",
       "<style scoped>\n",
       "    .dataframe tbody tr th:only-of-type {\n",
       "        vertical-align: middle;\n",
       "    }\n",
       "\n",
       "    .dataframe tbody tr th {\n",
       "        vertical-align: top;\n",
       "    }\n",
       "\n",
       "    .dataframe thead th {\n",
       "        text-align: right;\n",
       "    }\n",
       "</style>\n",
       "<table border=\"1\" class=\"dataframe\">\n",
       "  <thead>\n",
       "    <tr style=\"text-align: right;\">\n",
       "      <th></th>\n",
       "      <th>ID</th>\n",
       "      <th>Title</th>\n",
       "      <th>Japanese name</th>\n",
       "      <th>Score</th>\n",
       "      <th>Genres</th>\n",
       "      <th>Popularity</th>\n",
       "      <th>Producers</th>\n",
       "      <th>Synopsis</th>\n",
       "      <th>Members</th>\n",
       "      <th>Tags</th>\n",
       "    </tr>\n",
       "  </thead>\n",
       "  <tbody>\n",
       "    <tr>\n",
       "      <th>0</th>\n",
       "      <td>1</td>\n",
       "      <td>Cowboy Bebop</td>\n",
       "      <td>カウボーイビバップ</td>\n",
       "      <td>8.78</td>\n",
       "      <td>Action,Adventure,Comedy,Drama,Sci-Fi,Space</td>\n",
       "      <td>39</td>\n",
       "      <td>BandaiVisual</td>\n",
       "      <td>In the year 2071, humanity has colonized sever...</td>\n",
       "      <td>1251960</td>\n",
       "      <td>39 1251960 Action,Adventure,Comedy,Drama,Sci-F...</td>\n",
       "    </tr>\n",
       "  </tbody>\n",
       "</table>\n",
       "</div>"
      ],
      "text/plain": [
       "   ID         Title Japanese name Score   \n",
       "0   1  Cowboy Bebop     カウボーイビバップ  8.78  \\\n",
       "\n",
       "                                       Genres Popularity     Producers   \n",
       "0  Action,Adventure,Comedy,Drama,Sci-Fi,Space         39  BandaiVisual  \\\n",
       "\n",
       "                                            Synopsis  Members   \n",
       "0  In the year 2071, humanity has colonized sever...  1251960  \\\n",
       "\n",
       "                                                Tags  \n",
       "0  39 1251960 Action,Adventure,Comedy,Drama,Sci-F...  "
      ]
     },
     "execution_count": 100,
     "metadata": {},
     "output_type": "execute_result"
    }
   ],
   "source": [
    "anime.head(1)"
   ]
  },
  {
   "cell_type": "code",
   "execution_count": 101,
   "id": "2602ddb0",
   "metadata": {},
   "outputs": [],
   "source": [
    "anime = anime[[\"ID\",\"Title\",\"Tags\"]]"
   ]
  },
  {
   "cell_type": "code",
   "execution_count": 102,
   "id": "5058f6af",
   "metadata": {},
   "outputs": [
    {
     "data": {
      "text/html": [
       "<div>\n",
       "<style scoped>\n",
       "    .dataframe tbody tr th:only-of-type {\n",
       "        vertical-align: middle;\n",
       "    }\n",
       "\n",
       "    .dataframe tbody tr th {\n",
       "        vertical-align: top;\n",
       "    }\n",
       "\n",
       "    .dataframe thead th {\n",
       "        text-align: right;\n",
       "    }\n",
       "</style>\n",
       "<table border=\"1\" class=\"dataframe\">\n",
       "  <thead>\n",
       "    <tr style=\"text-align: right;\">\n",
       "      <th></th>\n",
       "      <th>ID</th>\n",
       "      <th>Title</th>\n",
       "      <th>Tags</th>\n",
       "    </tr>\n",
       "  </thead>\n",
       "  <tbody>\n",
       "    <tr>\n",
       "      <th>0</th>\n",
       "      <td>1</td>\n",
       "      <td>Cowboy Bebop</td>\n",
       "      <td>39 1251960 Action,Adventure,Comedy,Drama,Sci-F...</td>\n",
       "    </tr>\n",
       "    <tr>\n",
       "      <th>1</th>\n",
       "      <td>5</td>\n",
       "      <td>Cowboy Bebop:The Movie</td>\n",
       "      <td>518 273145 Action,Drama,Mystery,Sci-Fi,Space o...</td>\n",
       "    </tr>\n",
       "    <tr>\n",
       "      <th>2</th>\n",
       "      <td>6</td>\n",
       "      <td>Trigun</td>\n",
       "      <td>201 558913 Action,Sci-Fi,Adventure,Comedy,Dram...</td>\n",
       "    </tr>\n",
       "    <tr>\n",
       "      <th>3</th>\n",
       "      <td>7</td>\n",
       "      <td>Witch Hunter Robin</td>\n",
       "      <td>1467 94683 Action,Mystery,Police,Supernatural,...</td>\n",
       "    </tr>\n",
       "    <tr>\n",
       "      <th>4</th>\n",
       "      <td>8</td>\n",
       "      <td>Beet the Vandel Buster</td>\n",
       "      <td>4369 13224 Adventure,Fantasy,Shounen,Supernatu...</td>\n",
       "    </tr>\n",
       "  </tbody>\n",
       "</table>\n",
       "</div>"
      ],
      "text/plain": [
       "   ID                   Title   \n",
       "0   1            Cowboy Bebop  \\\n",
       "1   5  Cowboy Bebop:The Movie   \n",
       "2   6                  Trigun   \n",
       "3   7      Witch Hunter Robin   \n",
       "4   8  Beet the Vandel Buster   \n",
       "\n",
       "                                                Tags  \n",
       "0  39 1251960 Action,Adventure,Comedy,Drama,Sci-F...  \n",
       "1  518 273145 Action,Drama,Mystery,Sci-Fi,Space o...  \n",
       "2  201 558913 Action,Sci-Fi,Adventure,Comedy,Dram...  \n",
       "3  1467 94683 Action,Mystery,Police,Supernatural,...  \n",
       "4  4369 13224 Adventure,Fantasy,Shounen,Supernatu...  "
      ]
     },
     "execution_count": 102,
     "metadata": {},
     "output_type": "execute_result"
    }
   ],
   "source": [
    "anime.head(5)"
   ]
  },
  {
   "cell_type": "code",
   "execution_count": 103,
   "id": "ab863f9d",
   "metadata": {},
   "outputs": [
    {
     "data": {
      "text/plain": [
       "(3718, 3)"
      ]
     },
     "execution_count": 103,
     "metadata": {},
     "output_type": "execute_result"
    }
   ],
   "source": [
    "anime.shape"
   ]
  },
  {
   "cell_type": "code",
   "execution_count": 104,
   "id": "592cd715",
   "metadata": {},
   "outputs": [
    {
     "data": {
      "text/plain": [
       "ID                                                                                                                                                                                                                                                                                                                                                                                                                                                                                                                                                                                                                                                                                                                                                                                                                                                                                                                                                                                                                                                                                                                                                                                1\n",
       "Title                                                                                                                                                                                                                                                                                                                                                                                                                                                                                                                                                                                                                                                                                                                                                                                                                                                                                                                                                                                                                                                                                                                                                                  Cowboy Bebop\n",
       "Tags     39 1251960 Action,Adventure,Comedy,Drama,Sci-Fi,Space In the year 2071, humanity has colonized several of the planets and moons of the solar system leaving the now uninhabitable surface of planet Earth behind. The Inter Solar System Police attempts to keep peace in the galaxy, aided in part by outlaw bounty hunters, referred to as \"Cowboys.\" The ragtag team aboard the spaceship Bebop are two such individuals. Mellow and carefree Spike Spiegel is balanced by his boisterous, pragmatic partner Jet Black as the pair makes a living chasing bounties and collecting rewards. Thrown off course by the addition of new members that they meet in their travels—Ein, a genetically engineered, highly intelligent Welsh Corgi; femme fatale Faye Valentine, an enigmatic trickster with memory loss; and the strange computer whiz kid Edward Wong—the crew embarks on thrilling adventures that unravel each member's dark and mysterious past little by little. Well-balanced with high density action and light-hearted comedy, Cowboy Bebop is a space Western classic and an homage to the smooth and improvised music it is named after. BandaiVisual\n",
       "Name: 0, dtype: object"
      ]
     },
     "execution_count": 104,
     "metadata": {},
     "output_type": "execute_result"
    }
   ],
   "source": [
    "pd.set_option('display.max_colwidth',None)\n",
    "anime.iloc[0]"
   ]
  },
  {
   "cell_type": "code",
   "execution_count": 105,
   "id": "980ed300",
   "metadata": {},
   "outputs": [],
   "source": [
    "pd.reset_option('display.max_colwidth')"
   ]
  },
  {
   "cell_type": "code",
   "execution_count": 106,
   "id": "9fb24cbb",
   "metadata": {},
   "outputs": [],
   "source": [
    "from sklearn.feature_extraction.text import CountVectorizer\n",
    "cv = CountVectorizer(max_features = 5000, stop_words='english')"
   ]
  },
  {
   "cell_type": "code",
   "execution_count": 107,
   "id": "f2b17cc9",
   "metadata": {},
   "outputs": [],
   "source": [
    "vectors = cv.fit_transform(anime['Tags']).toarray()"
   ]
  },
  {
   "cell_type": "code",
   "execution_count": 108,
   "id": "f7471ab3",
   "metadata": {},
   "outputs": [
    {
     "data": {
      "text/plain": [
       "array([[0, 0, 0, ..., 0, 0, 0],\n",
       "       [0, 0, 0, ..., 0, 0, 0],\n",
       "       [3, 0, 0, ..., 0, 0, 0],\n",
       "       ...,\n",
       "       [0, 0, 0, ..., 0, 0, 0],\n",
       "       [0, 0, 0, ..., 0, 0, 0],\n",
       "       [0, 0, 0, ..., 0, 0, 0]], dtype=int64)"
      ]
     },
     "execution_count": 108,
     "metadata": {},
     "output_type": "execute_result"
    }
   ],
   "source": [
    "vectors"
   ]
  },
  {
   "cell_type": "code",
   "execution_count": 109,
   "id": "63c50c85",
   "metadata": {},
   "outputs": [
    {
     "data": {
      "text/plain": [
       "array([0, 0, 0, ..., 0, 0, 0], dtype=int64)"
      ]
     },
     "execution_count": 109,
     "metadata": {},
     "output_type": "execute_result"
    }
   ],
   "source": [
    "vectors[0] #first anime"
   ]
  },
  {
   "cell_type": "code",
   "execution_count": 110,
   "id": "da36ea8b",
   "metadata": {},
   "outputs": [
    {
     "data": {
      "text/plain": [
       "array(['000', '10', '100', ..., 'zombie', 'zombies', 'zone'], dtype=object)"
      ]
     },
     "execution_count": 110,
     "metadata": {},
     "output_type": "execute_result"
    }
   ],
   "source": [
    "cv.get_feature_names_out()"
   ]
  },
  {
   "cell_type": "code",
   "execution_count": 111,
   "id": "f1d50768",
   "metadata": {},
   "outputs": [
    {
     "name": "stdout",
     "output_type": "stream",
     "text": [
      "Requirement already satisfied: nltk in c:\\users\\hastansh\\anaconda3\\lib\\site-packages (3.8.1)Note: you may need to restart the kernel to use updated packages.\n",
      "\n",
      "Requirement already satisfied: click in c:\\users\\hastansh\\anaconda3\\lib\\site-packages (from nltk) (8.0.4)\n",
      "Requirement already satisfied: tqdm in c:\\users\\hastansh\\anaconda3\\lib\\site-packages (from nltk) (4.64.1)\n",
      "Requirement already satisfied: joblib in c:\\users\\hastansh\\anaconda3\\lib\\site-packages (from nltk) (1.1.1)\n",
      "Requirement already satisfied: regex>=2021.8.3 in c:\\users\\hastansh\\anaconda3\\lib\\site-packages (from nltk) (2022.7.9)\n",
      "Requirement already satisfied: colorama in c:\\users\\hastansh\\anaconda3\\lib\\site-packages (from click->nltk) (0.4.6)\n"
     ]
    }
   ],
   "source": [
    "%pip install -U nltk"
   ]
  },
  {
   "cell_type": "code",
   "execution_count": 112,
   "id": "7e05b890",
   "metadata": {},
   "outputs": [],
   "source": [
    "import nltk\n",
    "from nltk.stem.porter import PorterStemmer\n",
    "ps = PorterStemmer()"
   ]
  },
  {
   "cell_type": "code",
   "execution_count": 113,
   "id": "d1a762c8",
   "metadata": {},
   "outputs": [],
   "source": [
    "def stem(text):\n",
    "    y = []\n",
    "    \n",
    "    for i in text.split():\n",
    "        y.append(ps.stem(i))\n",
    "        \n",
    "    return \" \".join(y)"
   ]
  },
  {
   "cell_type": "code",
   "execution_count": 114,
   "id": "c2d8368d",
   "metadata": {},
   "outputs": [],
   "source": [
    "anime['Tags'] = anime['Tags'].apply(stem)"
   ]
  },
  {
   "cell_type": "code",
   "execution_count": 115,
   "id": "a0a1ab7e",
   "metadata": {},
   "outputs": [],
   "source": [
    "from sklearn.metrics.pairwise import cosine_similarity"
   ]
  },
  {
   "cell_type": "code",
   "execution_count": 116,
   "id": "f83c578f",
   "metadata": {},
   "outputs": [],
   "source": [
    "similarity = cosine_similarity(vectors)"
   ]
  },
  {
   "cell_type": "code",
   "execution_count": 117,
   "id": "42ab288c",
   "metadata": {},
   "outputs": [
    {
     "data": {
      "text/plain": [
       "array([1.        , 0.25197632, 0.11896238, ..., 0.05634362, 0.0993808 ,\n",
       "       0.        ])"
      ]
     },
     "execution_count": 117,
     "metadata": {},
     "output_type": "execute_result"
    }
   ],
   "source": [
    "similarity[0]"
   ]
  },
  {
   "cell_type": "code",
   "execution_count": 118,
   "id": "4fa41bb0",
   "metadata": {},
   "outputs": [],
   "source": [
    "def recommend(anime_name):\n",
    "    anime_index = anime[anime['Title'] == anime_name].index[0]\n",
    "    distances = similarity[anime_index]\n",
    "    anime_list = sorted(list(enumerate(distances)),reverse = True, key=lambda x:x[1])[1:6]\n",
    "    \n",
    "    for i in anime_list:\n",
    "        print(anime.iloc[i[0]].Title)"
   ]
  },
  {
   "cell_type": "code",
   "execution_count": null,
   "id": "18806793",
   "metadata": {},
   "outputs": [],
   "source": []
  },
  {
   "cell_type": "code",
   "execution_count": 119,
   "id": "b98205b5",
   "metadata": {},
   "outputs": [],
   "source": [
    "import pickle \n",
    "pickle.dump(anime.to_dict(),open('anime.pkl', 'wb'))"
   ]
  },
  {
   "cell_type": "code",
   "execution_count": 120,
   "id": "b4353508",
   "metadata": {},
   "outputs": [],
   "source": [
    "pickle.dump(similarity,open('similarity.pkl', 'wb'))"
   ]
  },
  {
   "cell_type": "code",
   "execution_count": null,
   "id": "e1db53e3",
   "metadata": {},
   "outputs": [],
   "source": []
  }
 ],
 "metadata": {
  "kernelspec": {
   "display_name": "Python 3 (ipykernel)",
   "language": "python",
   "name": "python3"
  },
  "language_info": {
   "codemirror_mode": {
    "name": "ipython",
    "version": 3
   },
   "file_extension": ".py",
   "mimetype": "text/x-python",
   "name": "python",
   "nbconvert_exporter": "python",
   "pygments_lexer": "ipython3",
   "version": "3.10.9"
  }
 },
 "nbformat": 4,
 "nbformat_minor": 5
}
